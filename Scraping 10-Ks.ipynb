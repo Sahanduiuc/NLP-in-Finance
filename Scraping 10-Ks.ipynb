{
 "cells": [
  {
   "cell_type": "code",
   "execution_count": 1,
   "metadata": {},
   "outputs": [],
   "source": [
    "import re\n",
    "import os\n",
    "from time import gmtime, strftime\n",
    "from datetime import datetime, timedelta\n",
    "import unicodedata\n",
    "\n",
    "import pandas as pd\n",
    "import numpy as np\n",
    "import requests\n",
    "import bs4 as bs\n",
    "from lxml import html\n",
    "from tqdm import tqdm"
   ]
  },
  {
   "cell_type": "code",
   "execution_count": 12,
   "metadata": {},
   "outputs": [],
   "source": [
    "ticker_cik_df = pd.DataFrame.from_dict(cik_dict, orient='index')"
   ]
  },
  {
   "cell_type": "code",
   "execution_count": 14,
   "metadata": {},
   "outputs": [],
   "source": [
    "ticker_cik_df.reset_index(inplace=True)\n",
    "ticker_cik_df.columns = ['ticker', 'cik']"
   ]
  },
  {
   "cell_type": "code",
   "execution_count": 15,
   "metadata": {
    "scrolled": true
   },
   "outputs": [
    {
     "data": {
      "text/html": [
       "<div>\n",
       "<style scoped>\n",
       "    .dataframe tbody tr th:only-of-type {\n",
       "        vertical-align: middle;\n",
       "    }\n",
       "\n",
       "    .dataframe tbody tr th {\n",
       "        vertical-align: top;\n",
       "    }\n",
       "\n",
       "    .dataframe thead th {\n",
       "        text-align: right;\n",
       "    }\n",
       "</style>\n",
       "<table border=\"1\" class=\"dataframe\">\n",
       "  <thead>\n",
       "    <tr style=\"text-align: right;\">\n",
       "      <th></th>\n",
       "      <th>ticker</th>\n",
       "      <th>cik</th>\n",
       "    </tr>\n",
       "  </thead>\n",
       "  <tbody>\n",
       "    <tr>\n",
       "      <th>0</th>\n",
       "      <td>aapl</td>\n",
       "      <td>0000320193</td>\n",
       "    </tr>\n",
       "    <tr>\n",
       "      <th>1</th>\n",
       "      <td>goog</td>\n",
       "      <td>0001652044</td>\n",
       "    </tr>\n",
       "  </tbody>\n",
       "</table>\n",
       "</div>"
      ],
      "text/plain": [
       "  ticker         cik\n",
       "0   aapl  0000320193\n",
       "1   goog  0001652044"
      ]
     },
     "execution_count": 15,
     "metadata": {},
     "output_type": "execute_result"
    }
   ],
   "source": [
    "ticker_cik_df"
   ]
  },
  {
   "cell_type": "code",
   "execution_count": 19,
   "metadata": {},
   "outputs": [],
   "source": [
    "pathname_10k = os.path.join(os.getcwd(), 'file_10k')"
   ]
  },
  {
   "cell_type": "code",
   "execution_count": 21,
   "metadata": {},
   "outputs": [],
   "source": [
    "browse_url_base_10k = 'https://www.sec.gov/cgi-bin/browse-edgar?action=getcompany&CIK=%s&type=10-K'\n",
    "filing_url_base_10k = 'http://www.sec.gov/Archives/edgar/data/%s/%s-index.html'\n",
    "doc_url_base_10k = 'http://www.sec.gov/Archives/edgar/data/%s/%s/%s'"
   ]
  },
  {
   "cell_type": "code",
   "execution_count": 29,
   "metadata": {},
   "outputs": [],
   "source": [
    "cik = ticker_cik_df['cik'][0]"
   ]
  },
  {
   "cell_type": "code",
   "execution_count": 26,
   "metadata": {},
   "outputs": [],
   "source": [
    "res = requests.get(browse_url_base_10k % cik)"
   ]
  },
  {
   "cell_type": "code",
   "execution_count": 32,
   "metadata": {},
   "outputs": [],
   "source": [
    "soup = bs.BeautifulSoup(res.text, 'lxml')"
   ]
  },
  {
   "cell_type": "code",
   "execution_count": 33,
   "metadata": {},
   "outputs": [],
   "source": [
    "html_tables = soup.find_all('table')"
   ]
  },
  {
   "cell_type": "code",
   "execution_count": 34,
   "metadata": {},
   "outputs": [],
   "source": [
    "if len(html_tables)<3:\n",
    "    os.chdir('..')"
   ]
  },
  {
   "cell_type": "code",
   "execution_count": 44,
   "metadata": {},
   "outputs": [],
   "source": [
    "filings_table = pd.read_html(str(html_tables[2]), header=0)[0]"
   ]
  },
  {
   "cell_type": "code",
   "execution_count": 45,
   "metadata": {},
   "outputs": [
    {
     "data": {
      "text/html": [
       "<div>\n",
       "<style scoped>\n",
       "    .dataframe tbody tr th:only-of-type {\n",
       "        vertical-align: middle;\n",
       "    }\n",
       "\n",
       "    .dataframe tbody tr th {\n",
       "        vertical-align: top;\n",
       "    }\n",
       "\n",
       "    .dataframe thead th {\n",
       "        text-align: right;\n",
       "    }\n",
       "</style>\n",
       "<table border=\"1\" class=\"dataframe\">\n",
       "  <thead>\n",
       "    <tr style=\"text-align: right;\">\n",
       "      <th></th>\n",
       "      <th>Filings</th>\n",
       "      <th>Format</th>\n",
       "      <th>Description</th>\n",
       "      <th>Filing Date</th>\n",
       "      <th>File/Film Number</th>\n",
       "    </tr>\n",
       "  </thead>\n",
       "  <tbody>\n",
       "    <tr>\n",
       "      <th>0</th>\n",
       "      <td>10-K/A</td>\n",
       "      <td>Documents</td>\n",
       "      <td>[Amend] Annual report [Section 13 and 15(d), n...</td>\n",
       "      <td>2019-02-06</td>\n",
       "      <td>001-3758019569784</td>\n",
       "    </tr>\n",
       "    <tr>\n",
       "      <th>1</th>\n",
       "      <td>10-K</td>\n",
       "      <td>Documents Interactive Data</td>\n",
       "      <td>Annual report [Section 13 and 15(d), not S-K I...</td>\n",
       "      <td>2019-02-05</td>\n",
       "      <td>001-3758019566006</td>\n",
       "    </tr>\n",
       "    <tr>\n",
       "      <th>2</th>\n",
       "      <td>10-K</td>\n",
       "      <td>Documents Interactive Data</td>\n",
       "      <td>Annual report [Section 13 and 15(d), not S-K I...</td>\n",
       "      <td>2018-02-06</td>\n",
       "      <td>001-3758018575994</td>\n",
       "    </tr>\n",
       "    <tr>\n",
       "      <th>3</th>\n",
       "      <td>10-K</td>\n",
       "      <td>Documents Interactive Data</td>\n",
       "      <td>Annual report [Section 13 and 15(d), not S-K I...</td>\n",
       "      <td>2017-02-03</td>\n",
       "      <td>001-3758017569702</td>\n",
       "    </tr>\n",
       "    <tr>\n",
       "      <th>4</th>\n",
       "      <td>10-K/A</td>\n",
       "      <td>Documents</td>\n",
       "      <td>[Amend] Annual report [Section 13 and 15(d), n...</td>\n",
       "      <td>2016-03-29</td>\n",
       "      <td>001-37580161533561</td>\n",
       "    </tr>\n",
       "    <tr>\n",
       "      <th>5</th>\n",
       "      <td>10-K</td>\n",
       "      <td>Documents Interactive Data</td>\n",
       "      <td>Annual report [Section 13 and 15(d), not S-K I...</td>\n",
       "      <td>2016-02-11</td>\n",
       "      <td>001-37580161412149</td>\n",
       "    </tr>\n",
       "  </tbody>\n",
       "</table>\n",
       "</div>"
      ],
      "text/plain": [
       "  Filings                      Format  \\\n",
       "0  10-K/A                   Documents   \n",
       "1    10-K  Documents Interactive Data   \n",
       "2    10-K  Documents Interactive Data   \n",
       "3    10-K  Documents Interactive Data   \n",
       "4  10-K/A                   Documents   \n",
       "5    10-K  Documents Interactive Data   \n",
       "\n",
       "                                         Description Filing Date  \\\n",
       "0  [Amend] Annual report [Section 13 and 15(d), n...  2019-02-06   \n",
       "1  Annual report [Section 13 and 15(d), not S-K I...  2019-02-05   \n",
       "2  Annual report [Section 13 and 15(d), not S-K I...  2018-02-06   \n",
       "3  Annual report [Section 13 and 15(d), not S-K I...  2017-02-03   \n",
       "4  [Amend] Annual report [Section 13 and 15(d), n...  2016-03-29   \n",
       "5  Annual report [Section 13 and 15(d), not S-K I...  2016-02-11   \n",
       "\n",
       "     File/Film Number  \n",
       "0   001-3758019569784  \n",
       "1   001-3758019566006  \n",
       "2   001-3758018575994  \n",
       "3   001-3758017569702  \n",
       "4  001-37580161533561  \n",
       "5  001-37580161412149  "
      ]
     },
     "execution_count": 45,
     "metadata": {},
     "output_type": "execute_result"
    }
   ],
   "source": [
    "filings_table"
   ]
  },
  {
   "cell_type": "code",
   "execution_count": 48,
   "metadata": {},
   "outputs": [],
   "source": [
    "filings_table['Filings'] = [str(x) for x in filings_table['Filings']]"
   ]
  },
  {
   "cell_type": "code",
   "execution_count": 49,
   "metadata": {},
   "outputs": [],
   "source": [
    "filings_table = filings_table[(filings_table['Filings'] == '10-K') | (filings_table['Filings'] == '10-K405')]"
   ]
  },
  {
   "cell_type": "code",
   "execution_count": 66,
   "metadata": {
    "scrolled": true
   },
   "outputs": [
    {
     "name": "stderr",
     "output_type": "stream",
     "text": [
      "C:\\Users\\vhuang\\Anaconda3\\envs\\py36tf2\\lib\\site-packages\\ipykernel_launcher.py:2: SettingWithCopyWarning: \n",
      "A value is trying to be set on a copy of a slice from a DataFrame.\n",
      "Try using .loc[row_indexer,col_indexer] = value instead\n",
      "\n",
      "See the caveats in the documentation: http://pandas.pydata.org/pandas-docs/stable/indexing.html#indexing-view-versus-copy\n",
      "  \n"
     ]
    }
   ],
   "source": [
    "filings_table['Acc_No'] = [x.replace('\\xa0', ' ').split('Acc-no: ')[1].split(' ')[0]\n",
    "                           for x  in filings_table['Description']]"
   ]
  },
  {
   "cell_type": "code",
   "execution_count": 97,
   "metadata": {},
   "outputs": [
    {
     "data": {
      "text/html": [
       "<div>\n",
       "<style scoped>\n",
       "    .dataframe tbody tr th:only-of-type {\n",
       "        vertical-align: middle;\n",
       "    }\n",
       "\n",
       "    .dataframe tbody tr th {\n",
       "        vertical-align: top;\n",
       "    }\n",
       "\n",
       "    .dataframe thead th {\n",
       "        text-align: right;\n",
       "    }\n",
       "</style>\n",
       "<table border=\"1\" class=\"dataframe\">\n",
       "  <thead>\n",
       "    <tr style=\"text-align: right;\">\n",
       "      <th></th>\n",
       "      <th>Filings</th>\n",
       "      <th>Format</th>\n",
       "      <th>Description</th>\n",
       "      <th>Filing Date</th>\n",
       "      <th>File/Film Number</th>\n",
       "      <th>Acc_No</th>\n",
       "    </tr>\n",
       "  </thead>\n",
       "  <tbody>\n",
       "    <tr>\n",
       "      <th>1</th>\n",
       "      <td>10-K</td>\n",
       "      <td>Documents Interactive Data</td>\n",
       "      <td>Annual report [Section 13 and 15(d), not S-K I...</td>\n",
       "      <td>2019-02-05</td>\n",
       "      <td>001-3758019566006</td>\n",
       "      <td>0001652044-19-000004</td>\n",
       "    </tr>\n",
       "    <tr>\n",
       "      <th>2</th>\n",
       "      <td>10-K</td>\n",
       "      <td>Documents Interactive Data</td>\n",
       "      <td>Annual report [Section 13 and 15(d), not S-K I...</td>\n",
       "      <td>2018-02-06</td>\n",
       "      <td>001-3758018575994</td>\n",
       "      <td>0001652044-18-000007</td>\n",
       "    </tr>\n",
       "    <tr>\n",
       "      <th>3</th>\n",
       "      <td>10-K</td>\n",
       "      <td>Documents Interactive Data</td>\n",
       "      <td>Annual report [Section 13 and 15(d), not S-K I...</td>\n",
       "      <td>2017-02-03</td>\n",
       "      <td>001-3758017569702</td>\n",
       "      <td>0001652044-17-000008</td>\n",
       "    </tr>\n",
       "    <tr>\n",
       "      <th>5</th>\n",
       "      <td>10-K</td>\n",
       "      <td>Documents Interactive Data</td>\n",
       "      <td>Annual report [Section 13 and 15(d), not S-K I...</td>\n",
       "      <td>2016-02-11</td>\n",
       "      <td>001-37580161412149</td>\n",
       "      <td>0001652044-16-000012</td>\n",
       "    </tr>\n",
       "  </tbody>\n",
       "</table>\n",
       "</div>"
      ],
      "text/plain": [
       "  Filings                      Format  \\\n",
       "1    10-K  Documents Interactive Data   \n",
       "2    10-K  Documents Interactive Data   \n",
       "3    10-K  Documents Interactive Data   \n",
       "5    10-K  Documents Interactive Data   \n",
       "\n",
       "                                         Description Filing Date  \\\n",
       "1  Annual report [Section 13 and 15(d), not S-K I...  2019-02-05   \n",
       "2  Annual report [Section 13 and 15(d), not S-K I...  2018-02-06   \n",
       "3  Annual report [Section 13 and 15(d), not S-K I...  2017-02-03   \n",
       "5  Annual report [Section 13 and 15(d), not S-K I...  2016-02-11   \n",
       "\n",
       "     File/Film Number                Acc_No  \n",
       "1   001-3758019566006  0001652044-19-000004  \n",
       "2   001-3758018575994  0001652044-18-000007  \n",
       "3   001-3758017569702  0001652044-17-000008  \n",
       "5  001-37580161412149  0001652044-16-000012  "
      ]
     },
     "execution_count": 97,
     "metadata": {},
     "output_type": "execute_result"
    }
   ],
   "source": [
    "filings_table"
   ]
  },
  {
   "cell_type": "code",
   "execution_count": 58,
   "metadata": {
    "scrolled": true
   },
   "outputs": [
    {
     "data": {
      "text/plain": [
       "'Annual report [Section 13 and 15(d), not S-K Item 405]Acc-no: 0001652044-19-000004\\xa0(34 Act) Size: 14 MB'"
      ]
     },
     "execution_count": 58,
     "metadata": {},
     "output_type": "execute_result"
    }
   ],
   "source": [
    "for index, row in filings_table.iterrows():\n",
    "    acc_no = str(row['Acc_No'])\n",
    "    docs_page = requests.get(filing_url_base_10k % (cik, acc_no))\n",
    "    \n",
    "    if docs_page.status_code != 200:\n",
    "        os.chdir(cik)\n",
    "        continue\n",
    "    \n",
    "    docs_page"
   ]
  },
  {
   "cell_type": "code",
   "execution_count": 65,
   "metadata": {},
   "outputs": [
    {
     "data": {
      "text/plain": [
       "'0001652044-19-000004'"
      ]
     },
     "execution_count": 65,
     "metadata": {},
     "output_type": "execute_result"
    }
   ],
   "source": [
    "x.replace('\\xa0', ' ').split('Acc-no: ')[1].split(' ')[0]"
   ]
  },
  {
   "cell_type": "code",
   "execution_count": 107,
   "metadata": {},
   "outputs": [],
   "source": [
    "acc_no = str(filings_table['Acc_No'][1])"
   ]
  },
  {
   "cell_type": "code",
   "execution_count": 110,
   "metadata": {},
   "outputs": [],
   "source": [
    "docs_page = requests.get(filing_url_base_10k % (cik, acc_no))"
   ]
  },
  {
   "cell_type": "code",
   "execution_count": 112,
   "metadata": {},
   "outputs": [],
   "source": [
    "docs_page_soup = bs.BeautifulSoup(docs_page.text, 'lxml')"
   ]
  },
  {
   "cell_type": "code",
   "execution_count": 113,
   "metadata": {},
   "outputs": [],
   "source": [
    "docs_html_tables = docs_page_soup.find_all('table')"
   ]
  },
  {
   "cell_type": "code",
   "execution_count": 116,
   "metadata": {},
   "outputs": [],
   "source": [
    "if len(docs_html_tables)==0:\n",
    "    pass\n",
    "docs_table = pd.read_html(str(docs_html_tables[0]), header=0)[0]"
   ]
  },
  {
   "cell_type": "code",
   "execution_count": 117,
   "metadata": {
    "scrolled": false
   },
   "outputs": [
    {
     "data": {
      "text/html": [
       "<div>\n",
       "<style scoped>\n",
       "    .dataframe tbody tr th:only-of-type {\n",
       "        vertical-align: middle;\n",
       "    }\n",
       "\n",
       "    .dataframe tbody tr th {\n",
       "        vertical-align: top;\n",
       "    }\n",
       "\n",
       "    .dataframe thead th {\n",
       "        text-align: right;\n",
       "    }\n",
       "</style>\n",
       "<table border=\"1\" class=\"dataframe\">\n",
       "  <thead>\n",
       "    <tr style=\"text-align: right;\">\n",
       "      <th></th>\n",
       "      <th>Seq</th>\n",
       "      <th>Description</th>\n",
       "      <th>Document</th>\n",
       "      <th>Type</th>\n",
       "      <th>Size</th>\n",
       "    </tr>\n",
       "  </thead>\n",
       "  <tbody>\n",
       "    <tr>\n",
       "      <th>0</th>\n",
       "      <td>1.0</td>\n",
       "      <td>10-K</td>\n",
       "      <td>goog10-kq42018.htm</td>\n",
       "      <td>10-K</td>\n",
       "      <td>2738368</td>\n",
       "    </tr>\n",
       "    <tr>\n",
       "      <th>1</th>\n",
       "      <td>2.0</td>\n",
       "      <td>EXHIBIT 21.01</td>\n",
       "      <td>googexhibit2101q42018.htm</td>\n",
       "      <td>EX-21.01</td>\n",
       "      <td>4474</td>\n",
       "    </tr>\n",
       "    <tr>\n",
       "      <th>2</th>\n",
       "      <td>3.0</td>\n",
       "      <td>EXHIBIT 23.01</td>\n",
       "      <td>googexhibit2301q42018.htm</td>\n",
       "      <td>EX-23.01</td>\n",
       "      <td>8574</td>\n",
       "    </tr>\n",
       "    <tr>\n",
       "      <th>3</th>\n",
       "      <td>4.0</td>\n",
       "      <td>EXHIBIT 31.01</td>\n",
       "      <td>googexhibit3101q42018.htm</td>\n",
       "      <td>EX-31.01</td>\n",
       "      <td>12394</td>\n",
       "    </tr>\n",
       "    <tr>\n",
       "      <th>4</th>\n",
       "      <td>5.0</td>\n",
       "      <td>EXHIBIT 31.02</td>\n",
       "      <td>googexhibit3102q42018.htm</td>\n",
       "      <td>EX-31.02</td>\n",
       "      <td>12643</td>\n",
       "    </tr>\n",
       "    <tr>\n",
       "      <th>5</th>\n",
       "      <td>6.0</td>\n",
       "      <td>EXHIBIT 32.01</td>\n",
       "      <td>googexhibit3201q42018.htm</td>\n",
       "      <td>EX-32.01</td>\n",
       "      <td>9821</td>\n",
       "    </tr>\n",
       "    <tr>\n",
       "      <th>6</th>\n",
       "      <td>13.0</td>\n",
       "      <td>NaN</td>\n",
       "      <td>chart-7c2ecf1250415c72a9ca01.jpg</td>\n",
       "      <td>GRAPHIC</td>\n",
       "      <td>79730</td>\n",
       "    </tr>\n",
       "    <tr>\n",
       "      <th>7</th>\n",
       "      <td>14.0</td>\n",
       "      <td>NaN</td>\n",
       "      <td>chart-d02c77e5831a57f6997a01.jpg</td>\n",
       "      <td>GRAPHIC</td>\n",
       "      <td>77686</td>\n",
       "    </tr>\n",
       "    <tr>\n",
       "      <th>8</th>\n",
       "      <td>NaN</td>\n",
       "      <td>Complete submission text file</td>\n",
       "      <td>0001652044-19-000004.txt</td>\n",
       "      <td>NaN</td>\n",
       "      <td>14192672</td>\n",
       "    </tr>\n",
       "  </tbody>\n",
       "</table>\n",
       "</div>"
      ],
      "text/plain": [
       "    Seq                    Description                          Document  \\\n",
       "0   1.0                           10-K                goog10-kq42018.htm   \n",
       "1   2.0                  EXHIBIT 21.01         googexhibit2101q42018.htm   \n",
       "2   3.0                  EXHIBIT 23.01         googexhibit2301q42018.htm   \n",
       "3   4.0                  EXHIBIT 31.01         googexhibit3101q42018.htm   \n",
       "4   5.0                  EXHIBIT 31.02         googexhibit3102q42018.htm   \n",
       "5   6.0                  EXHIBIT 32.01         googexhibit3201q42018.htm   \n",
       "6  13.0                            NaN  chart-7c2ecf1250415c72a9ca01.jpg   \n",
       "7  14.0                            NaN  chart-d02c77e5831a57f6997a01.jpg   \n",
       "8   NaN  Complete submission text file          0001652044-19-000004.txt   \n",
       "\n",
       "       Type      Size  \n",
       "0      10-K   2738368  \n",
       "1  EX-21.01      4474  \n",
       "2  EX-23.01      8574  \n",
       "3  EX-31.01     12394  \n",
       "4  EX-31.02     12643  \n",
       "5  EX-32.01      9821  \n",
       "6   GRAPHIC     79730  \n",
       "7   GRAPHIC     77686  \n",
       "8       NaN  14192672  "
      ]
     },
     "execution_count": 117,
     "metadata": {},
     "output_type": "execute_result"
    }
   ],
   "source": [
    "docs_table"
   ]
  },
  {
   "cell_type": "code",
   "execution_count": 118,
   "metadata": {},
   "outputs": [
    {
     "data": {
      "text/plain": [
       "'0000320193'"
      ]
     },
     "execution_count": 118,
     "metadata": {},
     "output_type": "execute_result"
    }
   ],
   "source": [
    "cik"
   ]
  },
  {
   "cell_type": "code",
   "execution_count": 119,
   "metadata": {
    "scrolled": true
   },
   "outputs": [
    {
     "data": {
      "text/plain": [
       "'C:\\\\Users\\\\vhuang\\\\Documents\\\\GitHub\\\\WordEmbedding-Word2Vec-GloVe'"
      ]
     },
     "execution_count": 119,
     "metadata": {},
     "output_type": "execute_result"
    }
   ],
   "source": [
    "os.getcwd()"
   ]
  },
  {
   "cell_type": "code",
   "execution_count": null,
   "metadata": {},
   "outputs": [],
   "source": []
  },
  {
   "cell_type": "code",
   "execution_count": null,
   "metadata": {},
   "outputs": [],
   "source": []
  },
  {
   "cell_type": "code",
   "execution_count": null,
   "metadata": {},
   "outputs": [],
   "source": []
  }
 ],
 "metadata": {
  "hide_input": false,
  "kernelspec": {
   "display_name": "Python 3",
   "language": "python",
   "name": "python3"
  },
  "language_info": {
   "codemirror_mode": {
    "name": "ipython",
    "version": 3
   },
   "file_extension": ".py",
   "mimetype": "text/x-python",
   "name": "python",
   "nbconvert_exporter": "python",
   "pygments_lexer": "ipython3",
   "version": "3.6.8"
  },
  "toc": {
   "base_numbering": 1,
   "nav_menu": {},
   "number_sections": true,
   "sideBar": true,
   "skip_h1_title": false,
   "title_cell": "Table of Contents",
   "title_sidebar": "Contents",
   "toc_cell": false,
   "toc_position": {},
   "toc_section_display": true,
   "toc_window_display": false
  },
  "varInspector": {
   "cols": {
    "lenName": 16,
    "lenType": 16,
    "lenVar": 40
   },
   "kernels_config": {
    "python": {
     "delete_cmd_postfix": "",
     "delete_cmd_prefix": "del ",
     "library": "var_list.py",
     "varRefreshCmd": "print(var_dic_list())"
    },
    "r": {
     "delete_cmd_postfix": ") ",
     "delete_cmd_prefix": "rm(",
     "library": "var_list.r",
     "varRefreshCmd": "cat(var_dic_list()) "
    }
   },
   "types_to_exclude": [
    "module",
    "function",
    "builtin_function_or_method",
    "instance",
    "_Feature"
   ],
   "window_display": false
  }
 },
 "nbformat": 4,
 "nbformat_minor": 2
}
